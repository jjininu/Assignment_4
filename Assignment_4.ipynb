{
  "nbformat": 4,
  "nbformat_minor": 0,
  "metadata": {
    "colab": {
      "name": " Assignment_4",
      "provenance": [],
      "collapsed_sections": []
    },
    "kernelspec": {
      "name": "python3",
      "display_name": "Python 3"
    },
    "language_info": {
      "name": "python"
    }
  },
  "cells": [
    {
      "cell_type": "markdown",
      "source": [
        "\n",
        "1. What exactly is []?"
      ],
      "metadata": {
        "id": "DJ-XHVHI1vAQ"
      }
    },
    {
      "cell_type": "markdown",
      "source": [
        "This is a square braces that defines a sequence of data as class list."
      ],
      "metadata": {
        "id": "0FexXRFM15Nw"
      }
    },
    {
      "cell_type": "markdown",
      "source": [
        "2. In a list of values stored in a variable called spam, how would you assign the value &#39;hello&#39; as the\n",
        "third value? (Assume [2, 4, 6, 8, 10] are in spam.)"
      ],
      "metadata": {
        "id": "yWkbMgyh2o7o"
      }
    },
    {
      "cell_type": "markdown",
      "source": [
        "spam[1] = 'hellow'"
      ],
      "metadata": {
        "id": "4hcfZwSN3fO8"
      }
    },
    {
      "cell_type": "markdown",
      "source": [
        "Let's pretend the spam includes the list ['a', 'b', 'c', 'd'] for the next three queries.\n",
        "\n",
        "What is the value of spam[int(int('3' * 2) / 11)]?"
      ],
      "metadata": {
        "id": "E7acf6gp4SKp"
      }
    },
    {
      "cell_type": "markdown",
      "source": [
        "spam[int(int('3' * 2) / 11)] will have a vlaue of 'd'. THis is because int('3'*2) will be integer off '33' divided by 11 will be 3. The vlaue on the 3rd index is 'd'."
      ],
      "metadata": {
        "id": "vOyhjWin4bR6"
      }
    },
    {
      "cell_type": "markdown",
      "source": [
        "4. What is the value of spam[-1]?"
      ],
      "metadata": {
        "id": "7QQ0P8rh5RVJ"
      }
    },
    {
      "cell_type": "markdown",
      "source": [
        "'d'"
      ],
      "metadata": {
        "id": "Hc4i0Jvz5jIO"
      }
    },
    {
      "cell_type": "markdown",
      "source": [
        "5. What is the value of spam[:2]?"
      ],
      "metadata": {
        "id": "R0nnmsH25miS"
      }
    },
    {
      "cell_type": "markdown",
      "source": [
        "['a', 'b'] "
      ],
      "metadata": {
        "id": "591UAgs96NMh"
      }
    },
    {
      "cell_type": "markdown",
      "source": [
        "Let&#39;s pretend bacon has the list [3.14, &#39;cat,&#39; 11, &#39;cat,&#39; True] for the next three questions.\n",
        "6. What is the value of bacon.index(&#39;cat&#39;)?"
      ],
      "metadata": {
        "id": "7dNSi8Eo6cyW"
      }
    },
    {
      "cell_type": "markdown",
      "source": [
        "The index will be 1."
      ],
      "metadata": {
        "id": "ncnsl6pp6hZL"
      }
    },
    {
      "cell_type": "markdown",
      "source": [
        "7. How does bacon.append(99) change the look of the list value in bacon?"
      ],
      "metadata": {
        "id": "dFq6otXf6pwN"
      }
    },
    {
      "cell_type": "markdown",
      "source": [
        "It will add 99 at the end of the list.\n",
        "\n",
        "[3.14, 'cat,' 11, 'cat,' True,99]\n"
      ],
      "metadata": {
        "id": "8hjm8h1X6uim"
      }
    },
    {
      "cell_type": "markdown",
      "source": [
        "8. How does bacon.remove(&#39;cat&#39;) change the look of the list in bacon?"
      ],
      "metadata": {
        "id": "v8_q3xTn7ARI"
      }
    },
    {
      "cell_type": "markdown",
      "source": [
        "It will remove the first encount 'cat', the list ends with 5 elements "
      ],
      "metadata": {
        "id": "yJGsPZ0q7Bjv"
      }
    },
    {
      "cell_type": "markdown",
      "source": [
        "9. What are the list concatenation and list replication operators?"
      ],
      "metadata": {
        "id": "HlUptFTJ78mH"
      }
    },
    {
      "cell_type": "markdown",
      "source": [
        "The operator for list concatenation is +, while the operator for replication is *."
      ],
      "metadata": {
        "id": "hI50oL6r8Ktf"
      }
    },
    {
      "cell_type": "markdown",
      "source": [
        "10. What is difference between the list methods append() and insert()?"
      ],
      "metadata": {
        "id": "25fvmRed8YAP"
      }
    },
    {
      "cell_type": "markdown",
      "source": [
        "append() method will add the second data in to the original one as a whole, where as insert() will add the elements in the second data one by one.\n"
      ],
      "metadata": {
        "id": "pYhfP4BUB2-w"
      }
    },
    {
      "cell_type": "markdown",
      "source": [
        "11. What are the two methods for removing items from a list?"
      ],
      "metadata": {
        "id": "X2TahNqxCdfY"
      }
    },
    {
      "cell_type": "markdown",
      "source": [
        "We can use remove() and del function to remove elements from a list.\n",
        "we can use pop() methods as well."
      ],
      "metadata": {
        "id": "rCYzn97gC8t4"
      }
    },
    {
      "cell_type": "markdown",
      "source": [
        "12. Describe how list values and string values are identical."
      ],
      "metadata": {
        "id": "_EozGuriDlog"
      }
    },
    {
      "cell_type": "markdown",
      "source": [
        "Both list and string are class of pythons containing values in  a sequential manner."
      ],
      "metadata": {
        "id": "yABPx3v9Dtg2"
      }
    },
    {
      "cell_type": "markdown",
      "source": [
        "13. What&#39;s the difference between tuples and lists?"
      ],
      "metadata": {
        "id": "RouREpJVFCPk"
      }
    },
    {
      "cell_type": "markdown",
      "source": [
        "The main difference is that lists are mutable , we can manipulate using diffenrent techniques. where as tuples are immutable , there are hardly few methods that we can apply and play with."
      ],
      "metadata": {
        "id": "kZi9GKxkFGBH"
      }
    },
    {
      "cell_type": "markdown",
      "source": [
        "14. How do you type a tuple value that only contains the integer 42?"
      ],
      "metadata": {
        "id": "FkFKYGdjF8vZ"
      }
    },
    {
      "cell_type": "markdown",
      "source": [
        "tuple([42])"
      ],
      "metadata": {
        "id": "QoVLUKsMGC49"
      }
    },
    {
      "cell_type": "markdown",
      "source": [
        "15. How do you get a list value&#39;s tuple form? How do you get a tuple value&#39;s list form?"
      ],
      "metadata": {
        "id": "ZhLKaL7DHtSP"
      }
    },
    {
      "cell_type": "markdown",
      "source": [
        "we can use tuple() and list() function to convert one in the other."
      ],
      "metadata": {
        "id": "4Li98R_aID-h"
      }
    },
    {
      "cell_type": "markdown",
      "source": [
        "16. Variables that &quot;contain&quot; list values are not necessarily lists themselves. Instead, what do they\n",
        "contain?"
      ],
      "metadata": {
        "id": "Z02pJR1MIRAI"
      }
    },
    {
      "cell_type": "markdown",
      "source": [
        "var_list"
      ],
      "metadata": {
        "id": "czUFJ_ILIanB"
      }
    },
    {
      "cell_type": "markdown",
      "source": [
        "17. How do you distinguish between copy.copy() and copy.deepcopy()?"
      ],
      "metadata": {
        "id": "UEVdWuBSJe48"
      }
    },
    {
      "cell_type": "markdown",
      "source": [
        "These functions in python module copy are methods that we use to make the exact copy of the original list. The difference is that copy.copy() will produce a shallow copy that will let us make a change on the copied data without affecting the original one. Whereas copy.deepcopy() will not do that."
      ],
      "metadata": {
        "id": "w7HCqr3sKhbo"
      }
    },
    {
      "cell_type": "code",
      "source": [
        ""
      ],
      "metadata": {
        "id": "4-j7fsBHEXf9"
      },
      "execution_count": null,
      "outputs": []
    }
  ]
}